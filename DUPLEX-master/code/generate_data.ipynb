{
 "cells": [
  {
   "cell_type": "code",
   "execution_count": 1,
   "id": "c6e1f330-1b92-4d7a-9e68-2eadb205b542",
   "metadata": {},
   "outputs": [],
   "source": [
    "import pandas as pd\n",
    "import dgl\n",
    "import torch"
   ]
  },
  {
   "cell_type": "code",
   "execution_count": 3,
   "id": "5bcc0374",
   "metadata": {},
   "outputs": [],
   "source": [
    "dream5= pd.read_csv('../data/dream5/DREAM5_Network_GRN_3types_ids.txt', delimiter='\\t', header=None)\n",
    "dream5_graph = dgl.graph((dream5[0], dream5[1]))\n",
    "dgl.save_graphs('./edge_data/dream5/whole.graph',dream5_graph)"
   ]
  },
  {
   "cell_type": "code",
   "execution_count": 4,
   "id": "4ae2c597",
   "metadata": {},
   "outputs": [],
   "source": [
    "ecoli= pd.read_csv('../data/ecoli/Ecoli_GRN_3types_ids.txt', delimiter='\\t', header=None)\n",
    "ecoli_graph = dgl.graph((ecoli[0], ecoli[1]))\n",
    "dgl.save_graphs('./edge_data/ecoli/whole.graph',ecoli_graph)"
   ]
  },
  {
   "cell_type": "code",
   "execution_count": 7,
   "id": "72194d10",
   "metadata": {},
   "outputs": [
    {
     "name": "stdout",
     "output_type": "stream",
     "text": [
      "Number of nodes in the human graph: 2476\n"
     ]
    }
   ],
   "source": [
    "human= pd.read_csv('../data/human/new_GRN_Lung_GEN_counts_genename_ids.tsv', delimiter='\\t', header=None)\n",
    "human_graph = dgl.graph((human[0], human[1]))\n",
    "num_nodes = human_graph.num_nodes()\n",
    "print(f\"Number of nodes in the human graph: {num_nodes}\")\n",
    "dgl.save_graphs('./edge_data/human/whole.graph',human_graph)"
   ]
  }
 ],
 "metadata": {
  "kernelspec": {
   "display_name": "duplex",
   "language": "python",
   "name": "python3"
  },
  "language_info": {
   "codemirror_mode": {
    "name": "ipython",
    "version": 3
   },
   "file_extension": ".py",
   "mimetype": "text/x-python",
   "name": "python",
   "nbconvert_exporter": "python",
   "pygments_lexer": "ipython3",
   "version": "3.8.19"
  }
 },
 "nbformat": 4,
 "nbformat_minor": 5
}
